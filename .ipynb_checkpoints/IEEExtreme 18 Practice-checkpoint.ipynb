{
 "cells": [
  {
   "cell_type": "markdown",
   "id": "4c28f32a",
   "metadata": {},
   "source": [
    "https://leetcode.com/problems/longest-substring-without-repeating-characters/\n",
    "\n",
    "## Longest Substring without Repeating Characters"
   ]
  },
  {
   "cell_type": "markdown",
   "id": "6bc21bac",
   "metadata": {},
   "source": [
    "Personal Solve"
   ]
  },
  {
   "cell_type": "code",
   "execution_count": 63,
   "id": "588a3677",
   "metadata": {},
   "outputs": [
    {
     "data": {
      "text/plain": [
       "3"
      ]
     },
     "execution_count": 63,
     "metadata": {},
     "output_type": "execute_result"
    }
   ],
   "source": [
    "def lengthOfLongestSubstring(s: str) -> int:\n",
    "    max_length = -1\n",
    "    for char in range(len(s)):\n",
    "        seen = set()\n",
    "        for sub_char in range(char, len(s)):\n",
    "            if s[sub_char] in seen:\n",
    "                break\n",
    "            seen.add(s[sub_char])\n",
    "            if max_length < len(s[char:sub_char + 1]):\n",
    "                max_length = len(s[char:sub_char + 1])\n",
    "    return max_length\n",
    "lengthOfLongestSubstring('abcabcbb')"
   ]
  },
  {
   "cell_type": "markdown",
   "id": "38a31f9c",
   "metadata": {},
   "source": [
    "ChatGPT"
   ]
  },
  {
   "cell_type": "code",
   "execution_count": 60,
   "id": "8728be79",
   "metadata": {},
   "outputs": [
    {
     "data": {
      "text/plain": [
       "3"
      ]
     },
     "execution_count": 60,
     "metadata": {},
     "output_type": "execute_result"
    }
   ],
   "source": [
    "def lengthOfLongestSubstring(s: str) -> int:\n",
    "    char_index_map = {}\n",
    "    max_length = 0\n",
    "    start = 0  # Left boundary of the window\n",
    "\n",
    "    for end, char in enumerate(s):\n",
    "        # If the character is in the map and its index is on or after 'start'\n",
    "        if char in char_index_map and char_index_map[char] >= start:\n",
    "            # Move 'start' right after the last occurrence of 'char'\n",
    "            start = char_index_map[char] + 1\n",
    "\n",
    "        # Update or add the character's latest index\n",
    "        char_index_map[char] = end\n",
    "\n",
    "        # Update the maximum length found so far\n",
    "        current_window_length = end - start + 1\n",
    "        if current_window_length > max_length:\n",
    "            max_length = current_window_length\n",
    "\n",
    "    return max_length"
   ]
  },
  {
   "cell_type": "markdown",
   "id": "16ca0f69",
   "metadata": {},
   "source": [
    "https://leetcode.com/problems/divide-players-into-teams-of-equal-skill/description/\n",
    "    \n",
    "## Divide Players Into Teams of Equal Skill"
   ]
  },
  {
   "cell_type": "markdown",
   "id": "3d8ab37d",
   "metadata": {},
   "source": [
    "Personal Solve"
   ]
  },
  {
   "cell_type": "code",
   "execution_count": 63,
   "id": "565a8259",
   "metadata": {},
   "outputs": [],
   "source": [
    "def dividePlayers(skill: list[int]) -> int:\n",
    "    #Finding the required skill level on each team\n",
    "    req_skill = sum(skill) / (len(skill) / 2)\n",
    "    if sum(skill) % (len(skill) // 2) != 0:\n",
    "        return -1\n",
    "    chemistry = 0\n",
    "    teams = []\n",
    "    seen = set()\n",
    "    for x in range(len(skill)):\n",
    "        for y in range(len(skill)):\n",
    "            if x != y and y not in seen and x not in seen and skill[x] + skill[y] == req_skill:\n",
    "                chemistry += skill[x] * skill[y]\n",
    "                teams.append((skill[x], skill[y]))\n",
    "                seen.add(x)\n",
    "                seen.add(y)\n",
    "    if len(teams) != len(skill) // 2:\n",
    "        return -1\n",
    "    return chemistry\n",
    "\n",
    "#Too slow"
   ]
  },
  {
   "cell_type": "markdown",
   "id": "b87dce1c",
   "metadata": {},
   "source": [
    "LeetCode Solution"
   ]
  },
  {
   "cell_type": "code",
   "execution_count": 61,
   "id": "cc5236bb",
   "metadata": {},
   "outputs": [],
   "source": [
    "def dividePlayers(skill: list[int]) -> int:\n",
    "    #Finding the required skill level on each team\n",
    "    no_of_teams = len(skill) / 2\n",
    "    req_skill = sum(skill) / no_of_teams\n",
    "    if sum(skill) % (len(skill) // 2) != 0:\n",
    "        return -1\n",
    "    \n",
    "    skills = [0] * 1001\n",
    "    for s in skill:\n",
    "        skills[s] += 1\n",
    "    \n",
    "    chemistry = 0\n",
    "    for player_skill in skill:\n",
    "        partner_skill = int(req_skill) - player_skill\n",
    "        \n",
    "        if skills[partner_skill] == 0:\n",
    "            return -1\n",
    "        chemistry += partner_skill * player_skill\n",
    "        skills[partner_skill] -= 1\n",
    "    \n",
    "    return chemistry // 2\n",
    "        "
   ]
  },
  {
   "cell_type": "markdown",
   "id": "dc7e67d8",
   "metadata": {},
   "source": [
    "https://leetcode.com/problems/minimum-difference-between-largest-and-smallest-value-in-three-moves/description/\n",
    "\n",
    "## Minimum Difference between Largest and Smallest value in Three Moves\n",
    "\n",
    "We'll get to this.. i dont understand the problem statement yet"
   ]
  },
  {
   "cell_type": "code",
   "execution_count": null,
   "id": "952505e7",
   "metadata": {},
   "outputs": [],
   "source": []
  },
  {
   "cell_type": "markdown",
   "id": "4e268331",
   "metadata": {},
   "source": [
    "https://leetcode.com/problems/score-of-a-string/description/\n",
    "\n",
    "## Score of a String\n",
    "\n",
    "I don't know why I even did this question.."
   ]
  },
  {
   "cell_type": "code",
   "execution_count": 72,
   "id": "390be923",
   "metadata": {},
   "outputs": [],
   "source": [
    "def scoreOfString(s: str) -> int:\n",
    "    score = 0\n",
    "    for x in range(len(s) - 1):\n",
    "        score += abs(ord(s[x]) - ord(s[x + 1]))\n",
    "    return score\n"
   ]
  },
  {
   "cell_type": "code",
   "execution_count": 74,
   "id": "ec3b92e8",
   "metadata": {},
   "outputs": [
    {
     "data": {
      "text/plain": [
       "50"
      ]
     },
     "execution_count": 74,
     "metadata": {},
     "output_type": "execute_result"
    }
   ],
   "source": [
    "string = 'zaz'\n",
    "scoreOfString(string)"
   ]
  },
  {
   "cell_type": "markdown",
   "id": "88fbb6cd",
   "metadata": {},
   "source": [
    "https://leetcode.com/problems/make-sum-divisible-by-p/description/\n",
    "\n",
    "## Make Sum Divisible by p"
   ]
  },
  {
   "cell_type": "markdown",
   "id": "834e1e72",
   "metadata": {},
   "source": [
    "Personal Solve"
   ]
  },
  {
   "cell_type": "code",
   "execution_count": 3,
   "id": "f12625a2",
   "metadata": {},
   "outputs": [],
   "source": [
    "def minSubarray(nums: list[int], p: int) -> int:\n",
    "    sum_array = sum(nums)\n",
    "    target = sum_array % p\n",
    "    if not target:\n",
    "        return 0\n",
    "    \n",
    "    length = len(nums)\n",
    "    minimum_length = length\n",
    "    \n",
    "    for i in range(length):\n",
    "        subarray = []\n",
    "        for j in range(i + 1, length + 1):\n",
    "            subarray = nums[i:j]\n",
    "            print(subarray)\n",
    "            if sum(subarray) == target and len(subarray) < minimum_length:\n",
    "                print(minimum_length)\n",
    "                minimum_length = len(subarray)\n",
    "    if minimum_length != length:\n",
    "        return minimum_length\n",
    "    \n",
    "    return -1"
   ]
  },
  {
   "cell_type": "markdown",
   "id": "8d10eb6a",
   "metadata": {},
   "source": [
    "ChatGPT"
   ]
  },
  {
   "cell_type": "code",
   "execution_count": 7,
   "id": "d72c4676",
   "metadata": {},
   "outputs": [
    {
     "name": "stdout",
     "output_type": "stream",
     "text": [
      "1\n"
     ]
    }
   ],
   "source": [
    "def minSubarray(nums: list[int], p: int) -> int:\n",
    "    total_sum = sum(nums)\n",
    "    target = total_sum % p\n",
    "    \n",
    "    # If the total sum is already divisible by p\n",
    "    if target == 0:\n",
    "        return 0\n",
    "    \n",
    "    # Dictionary to store the modulo of prefix sums and their indices\n",
    "    prefix_mod = {0: -1}  # Base case: for prefix sum before index 0\n",
    "    current_sum = 0\n",
    "    min_length = len(nums)\n",
    "    \n",
    "    for i, num in enumerate(nums):\n",
    "        current_sum += num\n",
    "        current_mod = current_sum % p\n",
    "        \n",
    "        # We want to find a prefix sum such that:\n",
    "        # (current_sum - some_prefix_sum) % p == target\n",
    "        desired_mod = (current_mod - target) % p\n",
    "        \n",
    "        # If we have seen this mod before, it means there's a subarray that sums to `target`\n",
    "        if desired_mod in prefix_mod:\n",
    "            subarray_length = i - prefix_mod[desired_mod]\n",
    "            min_length = min(min_length, subarray_length)\n",
    "        \n",
    "        # Store the current mod and its index\n",
    "        prefix_mod[current_mod] = i\n",
    "    \n",
    "    # If we found a valid subarray, return its length; otherwise return -1\n",
    "    return min_length if min_length < len(nums) else -1\n",
    "\n",
    "# Example usage\n",
    "nums = [3, 1, 4, 2]\n",
    "p = 6\n",
    "print(minSubarray(nums, p))  # Output would be 1 (removing [4] makes sum divisible by 6)\n"
   ]
  },
  {
   "cell_type": "markdown",
   "id": "078a9161",
   "metadata": {},
   "source": [
    "https://leetcode.com/problems/reverse-linked-list/description/\n",
    "\n",
    "## Reverse Linked List\n",
    "\n",
    "Implemented in LeetCode"
   ]
  },
  {
   "cell_type": "code",
   "execution_count": 75,
   "id": "b04b7c0b",
   "metadata": {},
   "outputs": [],
   "source": [
    "class ListNode:\n",
    "    def __init__(self, val=0, next=None):\n",
    "        self.val = val\n",
    "        self.next = next\n",
    "def reverseList(head: ListNode[ListNode]) -> ListNode[ListNode]:\n",
    "    prev = None\n",
    "    curr = head\n",
    "    while curr:\n",
    "        next_temp = curr.next\n",
    "        curr.next = prev\n",
    "        curr = next_temp\n",
    "    return prev"
   ]
  },
  {
   "cell_type": "markdown",
   "id": "897f6f2a",
   "metadata": {},
   "source": [
    "https://leetcode.com/problems/container-with-most-water/description/\n",
    "\n",
    "## Container with Most Water (incomplete)"
   ]
  },
  {
   "cell_type": "code",
   "execution_count": 54,
   "id": "8c9d3d7e",
   "metadata": {},
   "outputs": [],
   "source": [
    "def maxArea(height: list[int]) -> int:\n",
    "#     heights, widths = [], []\n",
    "    dims = []\n",
    "    heights = {height[x]:[i for i,h in enumerate(height) where h == height] for x in height}\n",
    "    for i, h in enumerate(height):\n",
    "        dims.append((i,h))\n",
    "        heights[h] \n",
    "    \n",
    "    dims.sort(key=lambda x: (x[1], x[0]))\n",
    "    print(dims)\n",
    "    \n",
    "    "
   ]
  },
  {
   "cell_type": "code",
   "execution_count": 57,
   "id": "46b630f7",
   "metadata": {},
   "outputs": [
    {
     "name": "stdout",
     "output_type": "stream",
     "text": [
      "[(0, 1), (3, 2), (7, 3), (5, 4), (4, 5), (2, 6), (8, 7), (1, 8), (6, 8)]\n"
     ]
    }
   ],
   "source": [
    "height = [1,8,6,2,5,4,8,3,7]\n",
    "maxArea(height)"
   ]
  },
  {
   "cell_type": "code",
   "execution_count": 64,
   "id": "a241a82c",
   "metadata": {},
   "outputs": [
    {
     "name": "stdout",
     "output_type": "stream",
     "text": [
      "{1: [0], 8: [1, 6], 6: [2], 2: [3], 5: [4], 4: [5], 3: [7], 7: [8]}\n"
     ]
    }
   ],
   "source": [
    "height = [1,8,6,2,5,4,8,3,7]\n",
    "heights = {x:[i for i, h in enumerate(height) if h == x] for x in height}\n",
    "print(heights)"
   ]
  },
  {
   "cell_type": "markdown",
   "id": "7480ce15",
   "metadata": {},
   "source": [
    "https://leetcode.com/problems/rank-transform-of-an-array/description/\n",
    "\n",
    "## Rank Transform of an Array\n",
    "\n",
    "starting to realize leetcode `easy` is actually just..nothing?"
   ]
  },
  {
   "cell_type": "code",
   "execution_count": 72,
   "id": "5b940dfb",
   "metadata": {},
   "outputs": [],
   "source": [
    "def arrayRankTransform(arr: list[int]) -> list[int]:\n",
    "    dict_temp = {x:i + 1 for i, x in enumerate(sorted(set(arr)))}\n",
    "    ranked = [dict_temp[x] for x in arr]\n",
    "    return ranked"
   ]
  },
  {
   "cell_type": "code",
   "execution_count": 73,
   "id": "65c59e27",
   "metadata": {},
   "outputs": [
    {
     "name": "stdout",
     "output_type": "stream",
     "text": [
      "[4, 1, 2, 3]\n"
     ]
    }
   ],
   "source": [
    "l = [40,10,20,30]\n",
    "arrayRankTransform(l)"
   ]
  }
 ],
 "metadata": {
  "kernelspec": {
   "display_name": "Python 3 (ipykernel)",
   "language": "python",
   "name": "python3"
  },
  "language_info": {
   "codemirror_mode": {
    "name": "ipython",
    "version": 3
   },
   "file_extension": ".py",
   "mimetype": "text/x-python",
   "name": "python",
   "nbconvert_exporter": "python",
   "pygments_lexer": "ipython3",
   "version": "3.11.5"
  }
 },
 "nbformat": 4,
 "nbformat_minor": 5
}

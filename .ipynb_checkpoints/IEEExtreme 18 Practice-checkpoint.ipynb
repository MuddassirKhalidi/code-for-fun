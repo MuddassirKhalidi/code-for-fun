{
 "cells": [
  {
   "cell_type": "markdown",
   "id": "4c28f32a",
   "metadata": {},
   "source": [
    "https://leetcode.com/problems/longest-substring-without-repeating-characters/\n",
    "\n",
    "## Longest Substring without Repeating Characters"
   ]
  },
  {
   "cell_type": "markdown",
   "id": "6bc21bac",
   "metadata": {},
   "source": [
    "Personal Solve"
   ]
  },
  {
   "cell_type": "code",
   "execution_count": 63,
   "id": "588a3677",
   "metadata": {},
   "outputs": [
    {
     "data": {
      "text/plain": [
       "3"
      ]
     },
     "execution_count": 63,
     "metadata": {},
     "output_type": "execute_result"
    }
   ],
   "source": [
    "def lengthOfLongestSubstring(s: str) -> int:\n",
    "    max_length = -1\n",
    "    for char in range(len(s)):\n",
    "        seen = set()\n",
    "        for sub_char in range(char, len(s)):\n",
    "            if s[sub_char] in seen:\n",
    "                break\n",
    "            seen.add(s[sub_char])\n",
    "            if max_length < len(s[char:sub_char + 1]):\n",
    "                max_length = len(s[char:sub_char + 1])\n",
    "    return max_length\n",
    "lengthOfLongestSubstring('abcabcbb')"
   ]
  },
  {
   "cell_type": "markdown",
   "id": "38a31f9c",
   "metadata": {},
   "source": [
    "ChatGPT"
   ]
  },
  {
   "cell_type": "code",
   "execution_count": 60,
   "id": "8728be79",
   "metadata": {},
   "outputs": [
    {
     "data": {
      "text/plain": [
       "3"
      ]
     },
     "execution_count": 60,
     "metadata": {},
     "output_type": "execute_result"
    }
   ],
   "source": [
    "def lengthOfLongestSubstring(s: str) -> int:\n",
    "    char_index_map = {}\n",
    "    max_length = 0\n",
    "    start = 0  # Left boundary of the window\n",
    "\n",
    "    for end, char in enumerate(s):\n",
    "        # If the character is in the map and its index is on or after 'start'\n",
    "        if char in char_index_map and char_index_map[char] >= start:\n",
    "            # Move 'start' right after the last occurrence of 'char'\n",
    "            start = char_index_map[char] + 1\n",
    "\n",
    "        # Update or add the character's latest index\n",
    "        char_index_map[char] = end\n",
    "\n",
    "        # Update the maximum length found so far\n",
    "        current_window_length = end - start + 1\n",
    "        if current_window_length > max_length:\n",
    "            max_length = current_window_length\n",
    "\n",
    "    return max_length"
   ]
  },
  {
   "cell_type": "markdown",
   "id": "16ca0f69",
   "metadata": {},
   "source": [
    "https://leetcode.com/problems/divide-players-into-teams-of-equal-skill/description/\n",
    "    \n",
    "## Divide Players Into Teams of Equal Skill"
   ]
  },
  {
   "cell_type": "markdown",
   "id": "3d8ab37d",
   "metadata": {},
   "source": [
    "Personal Solve"
   ]
  },
  {
   "cell_type": "code",
   "execution_count": 63,
   "id": "565a8259",
   "metadata": {},
   "outputs": [],
   "source": [
    "def dividePlayers(skill: list[int]) -> int:\n",
    "    #Finding the required skill level on each team\n",
    "    req_skill = sum(skill) / (len(skill) / 2)\n",
    "    if sum(skill) % (len(skill) // 2) != 0:\n",
    "        return -1\n",
    "    chemistry = 0\n",
    "    teams = []\n",
    "    seen = set()\n",
    "    for x in range(len(skill)):\n",
    "        for y in range(len(skill)):\n",
    "            if x != y and y not in seen and x not in seen and skill[x] + skill[y] == req_skill:\n",
    "                chemistry += skill[x] * skill[y]\n",
    "                teams.append((skill[x], skill[y]))\n",
    "                seen.add(x)\n",
    "                seen.add(y)\n",
    "    if len(teams) != len(skill) // 2:\n",
    "        return -1\n",
    "    return chemistry\n",
    "\n",
    "#Too slow"
   ]
  },
  {
   "cell_type": "markdown",
   "id": "b87dce1c",
   "metadata": {},
   "source": [
    "LeetCode Solution"
   ]
  },
  {
   "cell_type": "code",
   "execution_count": 61,
   "id": "cc5236bb",
   "metadata": {},
   "outputs": [],
   "source": [
    "def dividePlayers(skill: list[int]) -> int:\n",
    "    #Finding the required skill level on each team\n",
    "    no_of_teams = len(skill) / 2\n",
    "    req_skill = sum(skill) / no_of_teams\n",
    "    if sum(skill) % (len(skill) // 2) != 0:\n",
    "        return -1\n",
    "    \n",
    "    skills = [0] * 1001\n",
    "    for s in skill:\n",
    "        skills[s] += 1\n",
    "    \n",
    "    chemistry = 0\n",
    "    for player_skill in skill:\n",
    "        partner_skill = int(req_skill) - player_skill\n",
    "        \n",
    "        if skills[partner_skill] == 0:\n",
    "            return -1\n",
    "        chemistry += partner_skill * player_skill\n",
    "        skills[partner_skill] -= 1\n",
    "    \n",
    "    return chemistry // 2\n",
    "        "
   ]
  },
  {
   "cell_type": "markdown",
   "id": "dc7e67d8",
   "metadata": {},
   "source": [
    "https://leetcode.com/problems/minimum-difference-between-largest-and-smallest-value-in-three-moves/description/\n",
    "\n",
    "## Minimum Difference between Largest and Smallest value in Three Moves\n",
    "\n",
    "We'll get to this.. i dont understand the problem statement yet"
   ]
  },
  {
   "cell_type": "code",
   "execution_count": null,
   "id": "952505e7",
   "metadata": {},
   "outputs": [],
   "source": []
  },
  {
   "cell_type": "markdown",
   "id": "4e268331",
   "metadata": {},
   "source": [
    "https://leetcode.com/problems/score-of-a-string/description/\n",
    "\n",
    "## Score of a String\n",
    "\n",
    "I don't know why I even did this question.."
   ]
  },
  {
   "cell_type": "code",
   "execution_count": 72,
   "id": "390be923",
   "metadata": {},
   "outputs": [],
   "source": [
    "def scoreOfString(s: str) -> int:\n",
    "    score = 0\n",
    "    for x in range(len(s) - 1):\n",
    "        score += abs(ord(s[x]) - ord(s[x + 1]))\n",
    "    return score\n"
   ]
  },
  {
   "cell_type": "code",
   "execution_count": 74,
   "id": "ec3b92e8",
   "metadata": {},
   "outputs": [
    {
     "data": {
      "text/plain": [
       "50"
      ]
     },
     "execution_count": 74,
     "metadata": {},
     "output_type": "execute_result"
    }
   ],
   "source": [
    "string = 'zaz'\n",
    "scoreOfString(string)"
   ]
  },
  {
   "cell_type": "markdown",
   "id": "88fbb6cd",
   "metadata": {},
   "source": [
    "https://leetcode.com/problems/make-sum-divisible-by-p/description/\n",
    "\n",
    "## Make Sum Divisible by p"
   ]
  },
  {
   "cell_type": "markdown",
   "id": "834e1e72",
   "metadata": {},
   "source": [
    "Personal Solve"
   ]
  },
  {
   "cell_type": "code",
   "execution_count": 3,
   "id": "f12625a2",
   "metadata": {},
   "outputs": [],
   "source": [
    "def minSubarray(nums: list[int], p: int) -> int:\n",
    "    sum_array = sum(nums)\n",
    "    target = sum_array % p\n",
    "    if not target:\n",
    "        return 0\n",
    "    \n",
    "    length = len(nums)\n",
    "    minimum_length = length\n",
    "    \n",
    "    for i in range(length):\n",
    "        subarray = []\n",
    "        for j in range(i + 1, length + 1):\n",
    "            subarray = nums[i:j]\n",
    "            print(subarray)\n",
    "            if sum(subarray) == target and len(subarray) < minimum_length:\n",
    "                print(minimum_length)\n",
    "                minimum_length = len(subarray)\n",
    "    if minimum_length != length:\n",
    "        return minimum_length\n",
    "    \n",
    "    return -1"
   ]
  },
  {
   "cell_type": "markdown",
   "id": "8d10eb6a",
   "metadata": {},
   "source": [
    "ChatGPT"
   ]
  },
  {
   "cell_type": "code",
   "execution_count": 7,
   "id": "d72c4676",
   "metadata": {},
   "outputs": [
    {
     "name": "stdout",
     "output_type": "stream",
     "text": [
      "1\n"
     ]
    }
   ],
   "source": [
    "def minSubarray(nums: list[int], p: int) -> int:\n",
    "    total_sum = sum(nums)\n",
    "    target = total_sum % p\n",
    "    \n",
    "    # If the total sum is already divisible by p\n",
    "    if target == 0:\n",
    "        return 0\n",
    "    \n",
    "    # Dictionary to store the modulo of prefix sums and their indices\n",
    "    prefix_mod = {0: -1}  # Base case: for prefix sum before index 0\n",
    "    current_sum = 0\n",
    "    min_length = len(nums)\n",
    "    \n",
    "    for i, num in enumerate(nums):\n",
    "        current_sum += num\n",
    "        current_mod = current_sum % p\n",
    "        \n",
    "        # We want to find a prefix sum such that:\n",
    "        # (current_sum - some_prefix_sum) % p == target\n",
    "        desired_mod = (current_mod - target) % p\n",
    "        \n",
    "        # If we have seen this mod before, it means there's a subarray that sums to `target`\n",
    "        if desired_mod in prefix_mod:\n",
    "            subarray_length = i - prefix_mod[desired_mod]\n",
    "            min_length = min(min_length, subarray_length)\n",
    "        \n",
    "        # Store the current mod and its index\n",
    "        prefix_mod[current_mod] = i\n",
    "    \n",
    "    # If we found a valid subarray, return its length; otherwise return -1\n",
    "    return min_length if min_length < len(nums) else -1\n",
    "\n",
    "# Example usage\n",
    "nums = [3, 1, 4, 2]\n",
    "p = 6\n",
    "print(minSubarray(nums, p))  # Output would be 1 (removing [4] makes sum divisible by 6)\n"
   ]
  },
  {
   "cell_type": "markdown",
   "id": "078a9161",
   "metadata": {},
   "source": [
    "https://leetcode.com/problems/reverse-linked-list/description/\n",
    "\n",
    "## Reverse Linked List\n",
    "\n",
    "Implemented in LeetCode"
   ]
  },
  {
   "cell_type": "code",
   "execution_count": 75,
   "id": "b04b7c0b",
   "metadata": {},
   "outputs": [],
   "source": [
    "class ListNode:\n",
    "    def __init__(self, val=0, next=None):\n",
    "        self.val = val\n",
    "        self.next = next\n",
    "def reverseList(head: ListNode[ListNode]) -> ListNode[ListNode]:\n",
    "    prev = None\n",
    "    curr = head\n",
    "    while curr:\n",
    "        next_temp = curr.next\n",
    "        curr.next = prev\n",
    "        curr = next_temp\n",
    "    return prev"
   ]
  },
  {
   "cell_type": "markdown",
   "id": "897f6f2a",
   "metadata": {},
   "source": [
    "https://leetcode.com/problems/container-with-most-water/description/\n",
    "\n",
    "## Container with Most Water"
   ]
  },
  {
   "cell_type": "code",
   "execution_count": 159,
   "id": "8c9d3d7e",
   "metadata": {},
   "outputs": [],
   "source": [
    "#Brute force: O(n^2)\n",
    "def maxArea(height: list[int]) -> int:\n",
    "    max_area = 0\n",
    "    for i in range(len(height)):\n",
    "        for j in range(i, len(height)):\n",
    "            d = j - i\n",
    "            h = min(height[i], height[j])\n",
    "            area = d * h\n",
    "            if area > max_area:\n",
    "                max_area = area\n",
    "    return max_area\n",
    "\n",
    "#O(n)\n",
    "def maxArea(height: list[int]) -> int:\n",
    "    max_area = 0\n",
    "    left, right = 0, len(height) - 1\n",
    "    while left < right:\n",
    "        width = right - left\n",
    "        length = min(height[left], height[right])\n",
    "        max_area = max(width * length, max_area)\n",
    "        \n",
    "        if height[left] < height[right]:\n",
    "            left += 1\n",
    "        else:\n",
    "            right -= 1\n",
    "    \n",
    "    return max_area"
   ]
  },
  {
   "cell_type": "code",
   "execution_count": 160,
   "id": "46b630f7",
   "metadata": {},
   "outputs": [
    {
     "data": {
      "text/plain": [
       "49"
      ]
     },
     "execution_count": 160,
     "metadata": {},
     "output_type": "execute_result"
    }
   ],
   "source": [
    "height = [1,8,6,2,5,4,8,3,7]\n",
    "maxArea(height)"
   ]
  },
  {
   "cell_type": "markdown",
   "id": "7480ce15",
   "metadata": {},
   "source": [
    "https://leetcode.com/problems/rank-transform-of-an-array/description/\n",
    "\n",
    "## Rank Transform of an Array\n",
    "\n",
    "starting to realize leetcode `easy` is actually just..nothing?"
   ]
  },
  {
   "cell_type": "code",
   "execution_count": 72,
   "id": "5b940dfb",
   "metadata": {},
   "outputs": [],
   "source": [
    "def arrayRankTransform(arr: list[int]) -> list[int]:\n",
    "    dict_temp = {x:i + 1 for i, x in enumerate(sorted(set(arr)))}\n",
    "    ranked = [dict_temp[x] for x in arr]\n",
    "    return ranked"
   ]
  },
  {
   "cell_type": "code",
   "execution_count": 73,
   "id": "65c59e27",
   "metadata": {},
   "outputs": [
    {
     "name": "stdout",
     "output_type": "stream",
     "text": [
      "[4, 1, 2, 3]\n"
     ]
    }
   ],
   "source": [
    "l = [40,10,20,30]\n",
    "arrayRankTransform(l)"
   ]
  },
  {
   "cell_type": "markdown",
   "id": "377904a0",
   "metadata": {},
   "source": [
    "https://leetcode.com/problems/regular-expression-matching/description/\n",
    "\n",
    "## Regular Expression Matching"
   ]
  },
  {
   "cell_type": "code",
   "execution_count": 136,
   "id": "ecaea1fc",
   "metadata": {},
   "outputs": [],
   "source": [
    "def isMatch(s: str, p: str) -> bool:\n",
    "    str_chars = [char for char in s]\n",
    "    pat_chars = [char for char in p]    \n",
    "    formed_string = ''\n",
    "    i = 0\n",
    "    prev = ''\n",
    "    while pat_chars:\n",
    "        char = pat_chars[i]\n",
    "        if char == '.':\n",
    "            formed_string += str_chars.pop(0)\n",
    "                \n",
    "        elif char == '*':\n",
    "            if prev == '.':\n",
    "                formed_string += ''.join(str_chars)\n",
    "            else:\n",
    "                if formed_string:\n",
    "                    while (len(str_chars) >= 1 and str_chars[0] == formed_string[-1]):\n",
    "                        formed_string += str_chars.pop(0)\n",
    "        else:\n",
    "            formed_string += str_chars.pop(0)\n",
    "        \n",
    "        prev = pat_chars.pop(0)\n",
    "        \n",
    "    return s == formed_string\n",
    "\n",
    "# Tried using a stack approach.. i think this can still work at a different hour of the day 😆"
   ]
  },
  {
   "cell_type": "code",
   "execution_count": 137,
   "id": "18ae3e05",
   "metadata": {},
   "outputs": [],
   "source": [
    "s = \"aab\"\n",
    "p = \"c*a*b\"\n",
    "\n",
    "isMatch(s, p)"
   ]
  },
  {
   "cell_type": "markdown",
   "id": "b12f4c73",
   "metadata": {},
   "source": [
    "ChatGPT"
   ]
  },
  {
   "cell_type": "code",
   "execution_count": 138,
   "id": "16611735",
   "metadata": {},
   "outputs": [],
   "source": [
    "def isMatch(s: str, p: str) -> bool:\n",
    "    # Helper function for memoization\n",
    "    memo = {}\n",
    "\n",
    "    def dp(i, j):\n",
    "        # If the result is already computed, return it\n",
    "        if (i, j) in memo:\n",
    "            return memo[(i, j)]\n",
    "\n",
    "        # Base case: if pattern is fully matched\n",
    "        if j == len(p):\n",
    "            return i == len(s)\n",
    "\n",
    "        # First match checks if the current characters match or pattern has a '.'\n",
    "        first_match = i < len(s) and (p[j] == s[i] or p[j] == '.')\n",
    "\n",
    "        # Case 1: If we have a '*' in the pattern\n",
    "        if j + 1 < len(p) and p[j + 1] == '*':\n",
    "            # Two possibilities:\n",
    "            # 1. Ignore the '*' and move on in the pattern.\n",
    "            # 2. Use the '*' if the first characters match and move on in the string.\n",
    "            memo[(i, j)] = dp(i, j + 2) or (first_match and dp(i + 1, j))\n",
    "        else:\n",
    "            # Case 2: Normal case, move both the pattern and string if there's a match\n",
    "            memo[(i, j)] = first_match and dp(i + 1, j + 1)\n",
    "\n",
    "        return memo[(i, j)]\n",
    "\n",
    "    # Start matching from the beginning of the string and pattern\n",
    "    return dp(0, 0)\n"
   ]
  },
  {
   "cell_type": "markdown",
   "id": "07945727",
   "metadata": {},
   "source": [
    "https://leetcode.com/problems/minimum-number-of-swaps-to-make-the-string-balanced/description\n",
    "\n",
    "## Minimum Number of Swaps to Make the String Balanced"
   ]
  },
  {
   "cell_type": "code",
   "execution_count": 206,
   "id": "b5a4b534",
   "metadata": {},
   "outputs": [],
   "source": [
    "def minSwaps(s: str) -> int:\n",
    "    segment1, segment2 = s[:len(s)//2], s[len(s)//2:]\n",
    "    required = segment2[::-1] + segment1[::-1]\n",
    "    string = [char for char in s]\n",
    "    low = 0\n",
    "    high = len(s) - 1\n",
    "    swaps = 0\n",
    "    while low < high:\n",
    "        print(''.join(string))\n",
    "        if string[low] == ']' and string[high] == '[':\n",
    "            string[low], string[high] = string[high], string[low]\n",
    "            swaps += 1\n",
    "            \n",
    "        low += 1\n",
    "        high -= 1\n",
    "    \n",
    "    print(''.join(string))\n",
    "    return swaps"
   ]
  },
  {
   "cell_type": "code",
   "execution_count": 207,
   "id": "75a7f3b7",
   "metadata": {},
   "outputs": [
    {
     "data": {
      "text/plain": [
       "2"
      ]
     },
     "execution_count": 207,
     "metadata": {},
     "output_type": "execute_result"
    }
   ],
   "source": [
    "minSwaps(string)"
   ]
  },
  {
   "cell_type": "markdown",
   "id": "08953a4e",
   "metadata": {},
   "source": [
    "ChatGPT\n",
    "\n",
    "I swear i thought of this"
   ]
  },
  {
   "cell_type": "code",
   "execution_count": null,
   "id": "2a7c00a8",
   "metadata": {},
   "outputs": [],
   "source": [
    "def minSwaps(s: str) -> int:\n",
    "    imbalance = 0  # Keeps track of the current imbalance of closing brackets\n",
    "    swaps = 0      # Number of swaps required\n",
    "    \n",
    "    for char in s:\n",
    "        if char == '[':\n",
    "            # A new opening bracket helps reduce the imbalance\n",
    "            imbalance -= 1\n",
    "        else:\n",
    "            # A closing bracket potentially increases the imbalance\n",
    "            imbalance += 1\n",
    "        \n",
    "        # If imbalance becomes positive, we have more closing than opening brackets\n",
    "        if imbalance > 0:\n",
    "            # We need a swap to balance this closing bracket\n",
    "            swaps += 1\n",
    "            # After swapping, the imbalance decreases by 2 (since it adds an opening)\n",
    "            imbalance -= 2\n",
    "\n",
    "    return swaps\n"
   ]
  },
  {
   "cell_type": "markdown",
   "id": "3c0386e3",
   "metadata": {},
   "source": [
    "https://leetcode.com/problems/integer-to-english-words/description/\n",
    "\n",
    "## Integer to English Words"
   ]
  },
  {
   "cell_type": "code",
   "execution_count": 276,
   "id": "7b0b94c3",
   "metadata": {},
   "outputs": [],
   "source": [
    "def numberToWords(num: int) -> str:\n",
    "    ones = ['','One', 'Two', 'Three', 'Four', 'Five', 'Six', 'Seven', 'Eight', 'Nine', 'Ten', 'Eleven', 'Twelve', 'Thirteen', 'Fourteen', 'Fifteen', 'Sixteen', 'Seventeen', 'Eighteen', 'Nineteen']\n",
    "    tens = ['', '', 'Twenty', 'Thirty', 'Forty', 'Fifty', 'Sixty', 'Seventy', 'Eighty', 'Ninety']\n",
    "    larger = ['','Thousand', 'Million', 'Billion']\n",
    "    \n",
    "    def helper(number):\n",
    "        if number < 20:\n",
    "            return ones[number]\n",
    "        elif number < 100:\n",
    "            return tens[number // 10] + ' ' + ones[number % 10]\n",
    "        elif number < 1000:\n",
    "            return ones[number // 100] + ' Hundred ' + helper(number % 100)\n",
    "        else:\n",
    "            for i, element in enumerate(larger):\n",
    "                if number < 1000 ** (i + 1):\n",
    "                    return helper(number // (1000 ** i)).strip() + ' ' + element + ' ' + helper(number % (1000 ** i))\n",
    "        \n",
    "    \n",
    "    return helper(num)"
   ]
  },
  {
   "cell_type": "code",
   "execution_count": 279,
   "id": "45e3212f",
   "metadata": {},
   "outputs": [
    {
     "name": "stdout",
     "output_type": "stream",
     "text": [
      "Three Million Nine Hundred Ninety Three Thousand Nine Hundred Ninety Four\n"
     ]
    }
   ],
   "source": [
    "num = 3993994\n",
    "print(numberToWords(num))"
   ]
  },
  {
   "cell_type": "markdown",
   "id": "632823fe",
   "metadata": {},
   "source": [
    "https://leetcode.com/problems/minimum-add-to-make-parentheses-valid/description\n",
    "\n",
    "## Minimum Add to Make Paranthesis Valid\n",
    "\n",
    "Thaas craaazy"
   ]
  },
  {
   "cell_type": "code",
   "execution_count": 24,
   "id": "80fae38c",
   "metadata": {},
   "outputs": [],
   "source": [
    "def minAddToMakeValid(s: str) -> int:\n",
    "    lst = [[b, True] for b in s]\n",
    "    add = 0\n",
    "    for i in range(len(lst)):\n",
    "        if lst[i][0] == '(' and lst[i][1]:\n",
    "            for j in range(i + 1, len(s)):\n",
    "                if (lst[j][0] == ')' and lst[j][1]):\n",
    "                    lst[i][1] = lst[j][1] = False\n",
    "                    break\n",
    "                    \n",
    "        if lst[i][0] == ')' and lst[i][1]:\n",
    "            for j in range(i - 1, 0, -1):\n",
    "                if (lst[j][0] == '(' and lst[j][1]):\n",
    "                    lst[i][1] = lst[j][1] = False\n",
    "                    break\n",
    "                    \n",
    "    for element, not_seen in lst:\n",
    "        if not_seen == True:\n",
    "            add += 1\n",
    "    \n",
    "    return add"
   ]
  },
  {
   "cell_type": "code",
   "execution_count": 25,
   "id": "54b02896",
   "metadata": {},
   "outputs": [
    {
     "name": "stdout",
     "output_type": "stream",
     "text": [
      "[['(', True], [')', True], [')', True], [')', True], ['(', True], ['(', True]]\n",
      "[['(', False], [')', False], [')', True], [')', True], ['(', True], ['(', True]]\n"
     ]
    },
    {
     "data": {
      "text/plain": [
       "4"
      ]
     },
     "execution_count": 25,
     "metadata": {},
     "output_type": "execute_result"
    }
   ],
   "source": [
    "s = '()))(('\n",
    "minAddToMakeValid(s)"
   ]
  },
  {
   "cell_type": "code",
   "execution_count": null,
   "id": "5d4f4e76",
   "metadata": {},
   "outputs": [],
   "source": []
  }
 ],
 "metadata": {
  "kernelspec": {
   "display_name": "Python 3 (ipykernel)",
   "language": "python",
   "name": "python3"
  },
  "language_info": {
   "codemirror_mode": {
    "name": "ipython",
    "version": 3
   },
   "file_extension": ".py",
   "mimetype": "text/x-python",
   "name": "python",
   "nbconvert_exporter": "python",
   "pygments_lexer": "ipython3",
   "version": "3.11.5"
  }
 },
 "nbformat": 4,
 "nbformat_minor": 5
}

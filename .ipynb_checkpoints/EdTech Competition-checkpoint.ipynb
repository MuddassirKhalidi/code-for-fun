{
 "cells": [
  {
   "cell_type": "markdown",
   "id": "b1b8e171",
   "metadata": {},
   "source": [
    "https://www.hackerrank.com/contests/edtech-programming-competition/challenges/wow-some-words-are-long-huh\n",
    "\n",
    "## Wow Some Words Are Long, huh?"
   ]
  },
  {
   "cell_type": "code",
   "execution_count": 2,
   "id": "45d7f408",
   "metadata": {
    "scrolled": true
   },
   "outputs": [
    {
     "name": "stdout",
     "output_type": "stream",
     "text": [
      "4\n",
      "word\n",
      "localization\n",
      "internationalization\n",
      "pneumonoultramicroscopicsilicovolcanoconiosis\n",
      "word\n",
      "l10n\n",
      "i18n\n",
      "p43s\n"
     ]
    }
   ],
   "source": [
    "n = int(input())\n",
    "words = []\n",
    "for i in range(n):\n",
    "    word = input()\n",
    "    words.append(word)\n",
    "\n",
    "for word in words:\n",
    "    if len(word) > 10:\n",
    "        print(word[0] + str(len(word[1:len(word)-1])) + word[-1])\n",
    "    else:\n",
    "        print(word)"
   ]
  },
  {
   "cell_type": "markdown",
   "id": "8331edaa",
   "metadata": {},
   "source": [
    "https://www.hackerrank.com/contests/edtech-programming-competition/challenges/queue-36\n",
    "\n",
    "## Queue"
   ]
  },
  {
   "cell_type": "code",
   "execution_count": 3,
   "id": "dd231931",
   "metadata": {},
   "outputs": [
    {
     "name": "stdout",
     "output_type": "stream",
     "text": [
      "5\n",
      "15 2 1 5 3\n",
      "4\n"
     ]
    }
   ],
   "source": [
    "def max_satisfied_customers(n, times):\n",
    "    times.sort()\n",
    "    satisfied_count = 0\n",
    "    cumulative_time = 0\n",
    "    \n",
    "    for t in times:\n",
    "        if cumulative_time <= t:\n",
    "            satisfied_count += 1\n",
    "            cumulative_time += t\n",
    "    \n",
    "    return satisfied_count\n",
    "\n",
    "n = int(input())  # Number of customers\n",
    "times = list(map(int, input().split()))  # Service times\n",
    "\n",
    "print(max_satisfied_customers(n, times))"
   ]
  },
  {
   "cell_type": "markdown",
   "id": "62a7b710",
   "metadata": {},
   "source": [
    "https://www.hackerrank.com/contests/edtech-programming-competition/challenges/ransom-note-12\n",
    "\n",
    "## Ransom Note"
   ]
  },
  {
   "cell_type": "code",
   "execution_count": 4,
   "id": "9f315533",
   "metadata": {},
   "outputs": [
    {
     "name": "stdout",
     "output_type": "stream",
     "text": [
      "a\n",
      "b\n",
      "False\n"
     ]
    }
   ],
   "source": [
    "def validateNote(note, magazine):\n",
    "    for x in note:\n",
    "        if x not in magazine:\n",
    "            return False\n",
    "    return True\n",
    "\n",
    "note = input()\n",
    "magazine = input()\n",
    "\n",
    "print(validateNote(note, magazine))"
   ]
  },
  {
   "cell_type": "markdown",
   "id": "db6217b8",
   "metadata": {},
   "source": [
    "https://www.hackerrank.com/contests/edtech-programming-competition/challenges/mosaic-decorations-1\n",
    "\n",
    "## Mosaic Decorations"
   ]
  },
  {
   "cell_type": "code",
   "execution_count": 25,
   "id": "cedb573b",
   "metadata": {},
   "outputs": [
    {
     "name": "stdout",
     "output_type": "stream",
     "text": [
      "3 5 7\n",
      "10 10\n",
      "20 30\n",
      "30 3\n"
     ]
    },
    {
     "data": {
      "text/plain": [
       "65"
      ]
     },
     "execution_count": 25,
     "metadata": {},
     "output_type": "execute_result"
    }
   ],
   "source": [
    "def determinePiles(tiles):\n",
    "    black = sum([b for b, p in tiles])\n",
    "    pink = sum([p for b, p in tiles])\n",
    "    if black >= 10:\n",
    "        black_piles = 0\n",
    "        if black % 10 == 0:\n",
    "            for x in range(10, black + 1, 10):\n",
    "                black_piles += 1\n",
    "        else:\n",
    "            for x in range(10, black + 10, 10):\n",
    "                black_piles += 1\n",
    "    else:\n",
    "        black_piles = 1\n",
    "        \n",
    "    if pink >= 10:\n",
    "        pink_piles = 0\n",
    "        if pink % 10 == 0:\n",
    "            for x in range(10, pink + 1, 10):\n",
    "                pink_piles += 1\n",
    "        else:\n",
    "            for x in range(10, pink + 10, 10):\n",
    "                pink_piles += 1\n",
    "    else:\n",
    "        pink_piles = 1\n",
    "    \n",
    "    return black_piles, pink_piles\n",
    "\n",
    "def determineCost(Cb, Cp, tiles):\n",
    "    black_piles, pink_piles = determinePiles(tiles)\n",
    "    cost = (black_piles * Cb) + (pink_piles * Cp)\n",
    "    return cost\n",
    "            \n",
    "        \n",
    "\n",
    "N, Cb, Cp = map(int, input().split())\n",
    "# N number of bathrooms\n",
    "# Cb cost for 10 black tiles\n",
    "# Cp cost for 10 pink tiles\n",
    "\n",
    "tiles = []\n",
    "for n in range(N):\n",
    "    tile = list(map(int, input().split()))\n",
    "    tiles.append(tile)\n",
    "\n",
    "determineCost(Cb, Cp, tiles)"
   ]
  },
  {
   "cell_type": "markdown",
   "id": "29d84b57",
   "metadata": {},
   "source": [
    "https://www.hackerrank.com/contests/edtech-programming-competition/challenges/narcisstic-number-1-1\n",
    "\n",
    "## Narcisstic Number"
   ]
  },
  {
   "cell_type": "code",
   "execution_count": 34,
   "id": "86a5a031",
   "metadata": {},
   "outputs": [
    {
     "name": "stdout",
     "output_type": "stream",
     "text": [
      "5\n",
      "1634\n",
      "yes\n",
      "150\n",
      "no\n",
      "24\n",
      "no\n",
      "407\n",
      "yes\n",
      "10\n",
      "no\n"
     ]
    }
   ],
   "source": [
    "def determineNarcisstic(number):\n",
    "    og_number = number\n",
    "    length = 0\n",
    "    while number:\n",
    "        length += 1\n",
    "        number //= 10\n",
    "    \n",
    "    check_number = og_number\n",
    "    num_sum = 0\n",
    "    while og_number:\n",
    "        last = og_number % 10\n",
    "        num_sum += last ** length\n",
    "        og_number //= 10\n",
    "    \n",
    "    if num_sum == check_number:\n",
    "        return True\n",
    "    return False\n",
    "\n",
    "n = int(input())\n",
    "numbers = []\n",
    "for x in range(n):\n",
    "    number = int(input())\n",
    "    numbers.append(number)\n",
    "\n",
    "for number in numbers:\n",
    "    if determineNarcisstic(number):\n",
    "        print('yes')\n",
    "    else:\n",
    "        print('no')"
   ]
  },
  {
   "cell_type": "markdown",
   "id": "e0c06d49",
   "metadata": {},
   "source": [
    "https://www.hackerrank.com/contests/edtech-programming-competition/challenges/secret-message-18-1\n",
    "\n",
    "## Secret Message"
   ]
  },
  {
   "cell_type": "code",
   "execution_count": 39,
   "id": "46fe63f3",
   "metadata": {},
   "outputs": [
    {
     "name": "stdout",
     "output_type": "stream",
     "text": [
      "2\n",
      "lo8el4Wor7H2ld3\n",
      "tM1re4es9sa3Sec0ge7\n",
      "HelloWorld\n",
      "SecretMessage\n"
     ]
    }
   ],
   "source": [
    "def decode(word):\n",
    "    decoded_string = ''\n",
    "    temp_string = ''\n",
    "    \n",
    "    for c in word:\n",
    "        if c.isalpha():\n",
    "            temp_string += c\n",
    "        else:\n",
    "            c = int(c)\n",
    "            if c % 2 == 0:\n",
    "                decoded_string = temp_string + decoded_string\n",
    "            else:\n",
    "                decoded_string += temp_string\n",
    "            temp_string = ''\n",
    "            \n",
    "    return decoded_string\n",
    "\n",
    "n = int(input())\n",
    "words = []\n",
    "for i in range(n):\n",
    "    word = input()\n",
    "    words.append(word)\n",
    "\n",
    "for word in words:\n",
    "    print(decode(word))"
   ]
  },
  {
   "cell_type": "markdown",
   "id": "57121c41",
   "metadata": {},
   "source": [
    "https://www.hackerrank.com/contests/edtech-programming-competition/challenges/trash-game\n",
    "\n",
    "## Trash Game"
   ]
  },
  {
   "cell_type": "code",
   "execution_count": 81,
   "id": "2c84b9af",
   "metadata": {},
   "outputs": [
    {
     "name": "stdout",
     "output_type": "stream",
     "text": [
      "3\n",
      "1\n",
      "2\n",
      "4\n",
      "true\n",
      "true\n",
      "false\n"
     ]
    }
   ],
   "source": [
    "def determineWin(number):\n",
    "    if number % 4 == 0:\n",
    "        print('false')\n",
    "        return False\n",
    "    print('true')\n",
    "    return True\n",
    "\n",
    "n = int(input())\n",
    "numbers = []\n",
    "for i in range(n):\n",
    "    number = int(input())\n",
    "    numbers.append(number)\n",
    "\n",
    "for number in numbers:\n",
    "    determineWin(number)\n",
    "    "
   ]
  },
  {
   "cell_type": "markdown",
   "id": "a04eca30",
   "metadata": {},
   "source": [
    "https://www.hackerrank.com/contests/edtech-programming-competition/challenges/musical-puzzle\n",
    "\n",
    "## Musical Puzzle"
   ]
  },
  {
   "cell_type": "code",
   "execution_count": null,
   "id": "f3eabf89",
   "metadata": {},
   "outputs": [],
   "source": []
  },
  {
   "cell_type": "markdown",
   "id": "cb376b10",
   "metadata": {},
   "source": [
    "https://www.hackerrank.com/contests/edtech-programming-competition/challenges/longest-palindrome-19-2\n",
    "\n",
    "## Longest Palindrome"
   ]
  },
  {
   "cell_type": "code",
   "execution_count": 111,
   "id": "a2f3cf9f",
   "metadata": {},
   "outputs": [],
   "source": [
    "arr = list(map(int, input().split()))\n",
    "words = []\n",
    "\n",
    "for i in range(0, arr[0]):\n",
    "    words.append(input())\n",
    "\n",
    "natural_pal = \"\"\n",
    "ans_str = \"\"\n",
    "pairs = []\n",
    "\n",
    "for x in words:\n",
    "    if(x == x[::-1]):\n",
    "        natural_pal = x\n",
    "        words.remove(x)\n",
    "    elif(x[::-1] in words):\n",
    "        pairs.append(x)\n",
    "        words.remove(x)\n",
    "\n",
    "for x in pairs:\n",
    "    ans_str += x\n",
    "pairs.reverse()\n",
    "if(natural_pal != \"\"):\n",
    "    ans_str += natural_pal\n",
    "for x in pairs:\n",
    "    ans_str += x[::-1]\n",
    "\n",
    "print(len(ans_str))\n",
    "print(ans_str)"
   ]
  },
  {
   "cell_type": "markdown",
   "id": "717a5c26",
   "metadata": {},
   "source": [
    "https://www.hackerrank.com/contests/edtech-programming-competition/challenges/degenerated-triangle\n",
    "\n",
    "## Degenerated Triangle"
   ]
  },
  {
   "cell_type": "code",
   "execution_count": 116,
   "id": "e1246316",
   "metadata": {},
   "outputs": [
    {
     "name": "stdout",
     "output_type": "stream",
     "text": [
      "3 5 9 1\n",
      "IMPOSSIBLE\n"
     ]
    }
   ],
   "source": [
    "def determineTriangle(a,b,c,d):\n",
    "    sides = sorted([a,b,c,d])\n",
    "    results = []\n",
    "    for i in range(4):\n",
    "        test_sides = sorted([sides[i], sides[(i + 1) % 4], sides[(i + 2) % 4]])\n",
    "        small_sum = test_sides[0] + test_sides[1]\n",
    "        if small_sum == test_sides[2]:\n",
    "            results.append('SEGMENT')\n",
    "        \n",
    "        if small_sum > test_sides[2]:\n",
    "            return 'TRIANGLE'\n",
    "        \n",
    "        if small_sum < test_sides[2]:\n",
    "            results.append('IMPOSSIBLE')\n",
    "    \n",
    "    if 'SEGMENT' in results:\n",
    "        return 'SEGMENT'\n",
    "    return 'IMPOSSIBLE'\n",
    "\n",
    "a,b,c,d = map(int, input().split())\n",
    "print(determineTriangle(a,b,c,d))"
   ]
  },
  {
   "cell_type": "markdown",
   "id": "0fe1a2df",
   "metadata": {},
   "source": [
    "https://www.hackerrank.com/contests/edtech-programming-competition/challenges/laptops-3-1\n",
    "\n",
    "## Laptops"
   ]
  },
  {
   "cell_type": "code",
   "execution_count": 118,
   "id": "412d1bb6",
   "metadata": {},
   "outputs": [
    {
     "name": "stdout",
     "output_type": "stream",
     "text": [
      "2\n",
      "1 1\n",
      "2 2\n",
      "Poor Faisal\n"
     ]
    },
    {
     "data": {
      "text/plain": [
       "False"
      ]
     },
     "execution_count": 118,
     "metadata": {},
     "output_type": "execute_result"
    }
   ],
   "source": [
    "def determineLaptops(laptops):\n",
    "    for index, laptop in enumerate(laptops):\n",
    "        for j in range(index + 1, len(laptops)):\n",
    "            if laptop[0] < laptops[j][0] and laptop[1] > laptops[j][1]:\n",
    "                print('Happy Faisal')\n",
    "                return True\n",
    "    print('Poor Faisal')\n",
    "    return False\n",
    "\n",
    "n = int(input())\n",
    "laptops = []\n",
    "for i in range(n):\n",
    "    laptop = list(map(int, input().split()))\n",
    "    laptops.append(laptop)\n",
    "\n",
    "determineLaptops(laptops)"
   ]
  },
  {
   "cell_type": "markdown",
   "id": "3e2552cc",
   "metadata": {},
   "source": [
    "https://www.hackerrank.com/contests/edtech-programming-competition/challenges/table-tennis-4-1\n",
    "\n",
    "## Table Tennis"
   ]
  },
  {
   "cell_type": "code",
   "execution_count": 126,
   "id": "efdcf72b",
   "metadata": {
    "scrolled": true
   },
   "outputs": [
    {
     "name": "stdout",
     "output_type": "stream",
     "text": [
      "2 10000000000\n",
      "2 1\n"
     ]
    },
    {
     "data": {
      "text/plain": [
       "2"
      ]
     },
     "execution_count": 126,
     "metadata": {},
     "output_type": "execute_result"
    }
   ],
   "source": [
    "def determineWinner(n, k, players):\n",
    "    if n == 2:\n",
    "        return max(players)\n",
    "    \n",
    "    found = False\n",
    "    for i in range(n):\n",
    "        for j in range(1, k):\n",
    "            if players[i] < players[j]:\n",
    "                winner = players[j]\n",
    "                break\n",
    "            winner = players[i]\n",
    "            found = True\n",
    "            \n",
    "        if found == True:\n",
    "            \n",
    "            break\n",
    "    \n",
    "    return winner\n",
    "            \n",
    "\n",
    "n, k = map(int, input().split())\n",
    "\n",
    "#n number of players\n",
    "#k required number of wins\n",
    "\n",
    "players = list(map(int, input().split()))\n",
    "\n",
    "determineWinner(n, k, players)"
   ]
  },
  {
   "cell_type": "markdown",
   "id": "8910e903",
   "metadata": {},
   "source": [
    "ChatGPT"
   ]
  },
  {
   "cell_type": "code",
   "execution_count": null,
   "id": "d1f1b425",
   "metadata": {},
   "outputs": [],
   "source": [
    "def determineWinner(n, k, players):\n",
    "    current_winner = players[0]\n",
    "    consecutive_wins = 0\n",
    "\n",
    "    for i in range(1, n):\n",
    "        if current_winner > players[i]:\n",
    "            consecutive_wins += 1\n",
    "        else:\n",
    "            current_winner = players[i]\n",
    "            consecutive_wins = 1\n",
    "        \n",
    "        if consecutive_wins == k:\n",
    "            return current_winner\n",
    "    \n",
    "    return current_winner\n",
    "\n",
    "n, k = map(int, input().split())  \n",
    "#n number of players\n",
    "#k number of consecutive wins required\n",
    "players = list(map(int, input().split())) \n",
    "\n",
    "print(determineWinner(n, k, players))\n"
   ]
  },
  {
   "cell_type": "markdown",
   "id": "947fd2a8",
   "metadata": {},
   "source": [
    "https://www.hackerrank.com/contests/edtech-programming-competition/challenges/ugly-number-21\n",
    "\n",
    "## Ugly Number"
   ]
  },
  {
   "cell_type": "code",
   "execution_count": 130,
   "id": "f2d6fe33",
   "metadata": {},
   "outputs": [
    {
     "name": "stdout",
     "output_type": "stream",
     "text": [
      "6\n",
      "TRUE\n"
     ]
    }
   ],
   "source": [
    "def is_ugly_number(n):\n",
    "    if n <= 0:\n",
    "        return \"FALSE\"\n",
    "    \n",
    "    for factor in [2, 3, 5]:\n",
    "        while n % factor == 0:\n",
    "            n //= factor\n",
    "    \n",
    "    return \"TRUE\" if n == 1 else \"FALSE\"\n",
    "\n",
    "n = int(input())  # Read input number\n",
    "print(is_ugly_number(n))\n"
   ]
  },
  {
   "cell_type": "markdown",
   "id": "52fbf232",
   "metadata": {},
   "source": [
    "https://www.hackerrank.com/contests/edtech-programming-competition/challenges/mersenne-primes-1\n",
    "\n",
    "## Mersenne Primes"
   ]
  },
  {
   "cell_type": "code",
   "execution_count": 138,
   "id": "773d2448",
   "metadata": {},
   "outputs": [
    {
     "name": "stdout",
     "output_type": "stream",
     "text": [
      "10\n",
      "Prime number: 0\n",
      "Checking exponents: 0\n",
      "Checking exponents: 1\n",
      "Checking exponents: 2\n",
      "Checking exponents: 3\n",
      "-\n",
      "Prime number: 1\n",
      "Checking exponents: 0\n",
      "Checking exponents: 1\n",
      "Checking exponents: 2\n",
      "Checking exponents: 3\n",
      "-\n",
      "Prime number: 2\n",
      "Checking exponents: 0\n",
      "Checking exponents: 1\n",
      "Checking exponents: 2\n",
      "Checking exponents: 3\n",
      "-\n",
      "Prime number: 3\n",
      "Checking exponents: 0\n",
      "Checking exponents: 1\n",
      "Checking exponents: 2\n",
      "Checking exponents: 3\n",
      "-\n",
      "Prime number: 5\n",
      "Checking exponents: 0\n",
      "Checking exponents: 1\n",
      "Checking exponents: 2\n",
      "Checking exponents: 3\n",
      "-\n",
      "Prime number: 7\n",
      "Checking exponents: 0\n",
      "Checking exponents: 1\n",
      "Checking exponents: 2\n",
      "Checking exponents: 3\n",
      "-\n"
     ]
    },
    {
     "data": {
      "text/plain": [
       "[]"
      ]
     },
     "execution_count": 138,
     "metadata": {},
     "output_type": "execute_result"
    }
   ],
   "source": [
    "def isPrime(number):\n",
    "    if number <= 1:\n",
    "        return False\n",
    "    for x in range(2, int(number ** 0.5) + 1):\n",
    "        if number % x == 0:\n",
    "            return False\n",
    "    return True\n",
    "\n",
    "def determineMersennes(max_number):\n",
    "    mersennes = []\n",
    "    \n",
    "    for x in range(max_number + 1):\n",
    "        if isPrime(x):\n",
    "            print(f'Prime number: {x}')\n",
    "            for y in range(int(number ** 0.5) + 2):\n",
    "                print(f'Checking exponents: {y}')\n",
    "                if (number == (2 ** y) - 1):\n",
    "                    print('Found exponent')\n",
    "                    mersennes.append(number)\n",
    "                    break\n",
    "            print('-')\n",
    "    return mersennes\n",
    "\n",
    "n = int(input())\n",
    "\n",
    "determineMersennes(n)"
   ]
  },
  {
   "cell_type": "code",
   "execution_count": 140,
   "id": "fba59971",
   "metadata": {},
   "outputs": [
    {
     "data": {
      "text/plain": [
       "True"
      ]
     },
     "execution_count": 140,
     "metadata": {},
     "output_type": "execute_result"
    }
   ],
   "source": [
    "def isPrime(number):\n",
    "    if n <= 1:\n",
    "        return False\n",
    "    for x in range(2, int(number ** 0.5) + 1):\n",
    "        if number % x == 0:\n",
    "            return False\n",
    "    return True\n",
    "\n",
    "isPrime(1)"
   ]
  },
  {
   "cell_type": "code",
   "execution_count": null,
   "id": "7c8189fa",
   "metadata": {},
   "outputs": [],
   "source": []
  }
 ],
 "metadata": {
  "kernelspec": {
   "display_name": "Python 3 (ipykernel)",
   "language": "python",
   "name": "python3"
  },
  "language_info": {
   "codemirror_mode": {
    "name": "ipython",
    "version": 3
   },
   "file_extension": ".py",
   "mimetype": "text/x-python",
   "name": "python",
   "nbconvert_exporter": "python",
   "pygments_lexer": "ipython3",
   "version": "3.11.5"
  }
 },
 "nbformat": 4,
 "nbformat_minor": 5
}

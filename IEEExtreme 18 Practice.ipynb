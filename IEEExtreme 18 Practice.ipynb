{
 "cells": [
  {
   "cell_type": "markdown",
   "id": "4c28f32a",
   "metadata": {},
   "source": [
    "https://leetcode.com/problems/longest-substring-without-repeating-characters/\n",
    "\n",
    "## Longest Substring without Repeating Characters"
   ]
  },
  {
   "cell_type": "markdown",
   "id": "6bc21bac",
   "metadata": {},
   "source": [
    "Personal Solve"
   ]
  },
  {
   "cell_type": "code",
   "execution_count": 63,
   "id": "588a3677",
   "metadata": {},
   "outputs": [
    {
     "data": {
      "text/plain": [
       "3"
      ]
     },
     "execution_count": 63,
     "metadata": {},
     "output_type": "execute_result"
    }
   ],
   "source": [
    "def lengthOfLongestSubstring(s: str) -> int:\n",
    "    max_length = -1\n",
    "    for char in range(len(s)):\n",
    "        seen = set()\n",
    "        for sub_char in range(char, len(s)):\n",
    "            if s[sub_char] in seen:\n",
    "                break\n",
    "            seen.add(s[sub_char])\n",
    "            if max_length < len(s[char:sub_char + 1]):\n",
    "                max_length = len(s[char:sub_char + 1])\n",
    "    return max_length\n",
    "lengthOfLongestSubstring('abcabcbb')"
   ]
  },
  {
   "cell_type": "markdown",
   "id": "38a31f9c",
   "metadata": {},
   "source": [
    "ChatGPT"
   ]
  },
  {
   "cell_type": "code",
   "execution_count": 60,
   "id": "8728be79",
   "metadata": {},
   "outputs": [
    {
     "data": {
      "text/plain": [
       "3"
      ]
     },
     "execution_count": 60,
     "metadata": {},
     "output_type": "execute_result"
    }
   ],
   "source": [
    "def lengthOfLongestSubstring(s: str) -> int:\n",
    "    char_index_map = {}\n",
    "    max_length = 0\n",
    "    start = 0  # Left boundary of the window\n",
    "\n",
    "    for end, char in enumerate(s):\n",
    "        # If the character is in the map and its index is on or after 'start'\n",
    "        if char in char_index_map and char_index_map[char] >= start:\n",
    "            # Move 'start' right after the last occurrence of 'char'\n",
    "            start = char_index_map[char] + 1\n",
    "\n",
    "        # Update or add the character's latest index\n",
    "        char_index_map[char] = end\n",
    "\n",
    "        # Update the maximum length found so far\n",
    "        current_window_length = end - start + 1\n",
    "        if current_window_length > max_length:\n",
    "            max_length = current_window_length\n",
    "\n",
    "    return max_length"
   ]
  },
  {
   "cell_type": "markdown",
   "id": "16ca0f69",
   "metadata": {},
   "source": [
    "https://leetcode.com/problems/divide-players-into-teams-of-equal-skill/description/\n",
    "    \n",
    "## Divide Players Into Teams of Equal Skill"
   ]
  },
  {
   "cell_type": "markdown",
   "id": "3d8ab37d",
   "metadata": {},
   "source": [
    "Personal Solve"
   ]
  },
  {
   "cell_type": "code",
   "execution_count": 63,
   "id": "565a8259",
   "metadata": {},
   "outputs": [],
   "source": [
    "def dividePlayers(skill: list[int]) -> int:\n",
    "    #Finding the required skill level on each team\n",
    "    req_skill = sum(skill) / (len(skill) / 2)\n",
    "    if sum(skill) % (len(skill) // 2) != 0:\n",
    "        return -1\n",
    "    chemistry = 0\n",
    "    teams = []\n",
    "    seen = set()\n",
    "    for x in range(len(skill)):\n",
    "        for y in range(len(skill)):\n",
    "            if x != y and y not in seen and x not in seen and skill[x] + skill[y] == req_skill:\n",
    "                chemistry += skill[x] * skill[y]\n",
    "                teams.append((skill[x], skill[y]))\n",
    "                seen.add(x)\n",
    "                seen.add(y)\n",
    "    if len(teams) != len(skill) // 2:\n",
    "        return -1\n",
    "    return chemistry\n",
    "\n",
    "#Too slow"
   ]
  },
  {
   "cell_type": "markdown",
   "id": "b87dce1c",
   "metadata": {},
   "source": [
    "LeetCode Solution"
   ]
  },
  {
   "cell_type": "code",
   "execution_count": 61,
   "id": "cc5236bb",
   "metadata": {},
   "outputs": [],
   "source": [
    "def dividePlayers(skill: list[int]) -> int:\n",
    "    #Finding the required skill level on each team\n",
    "    no_of_teams = len(skill) / 2\n",
    "    req_skill = sum(skill) / no_of_teams\n",
    "    if sum(skill) % (len(skill) // 2) != 0:\n",
    "        return -1\n",
    "    \n",
    "    skills = [0] * 1001\n",
    "    for s in skill:\n",
    "        skills[s] += 1\n",
    "    \n",
    "    chemistry = 0\n",
    "    for player_skill in skill:\n",
    "        partner_skill = int(req_skill) - player_skill\n",
    "        \n",
    "        if skills[partner_skill] == 0:\n",
    "            return -1\n",
    "        chemistry += partner_skill * player_skill\n",
    "        skills[partner_skill] -= 1\n",
    "    \n",
    "    return chemistry // 2\n",
    "        "
   ]
  }
 ],
 "metadata": {
  "kernelspec": {
   "display_name": "Python 3 (ipykernel)",
   "language": "python",
   "name": "python3"
  },
  "language_info": {
   "codemirror_mode": {
    "name": "ipython",
    "version": 3
   },
   "file_extension": ".py",
   "mimetype": "text/x-python",
   "name": "python",
   "nbconvert_exporter": "python",
   "pygments_lexer": "ipython3",
   "version": "3.11.5"
  }
 },
 "nbformat": 4,
 "nbformat_minor": 5
}

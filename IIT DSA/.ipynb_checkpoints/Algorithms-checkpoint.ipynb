{
 "cells": [
  {
   "cell_type": "markdown",
   "id": "da1691e4",
   "metadata": {},
   "source": [
    "### Binary Searching\n",
    "\n",
    "#### `Runtime complexity: O(logn)`"
   ]
  },
  {
   "cell_type": "code",
   "execution_count": 7,
   "id": "fc7d51c3",
   "metadata": {},
   "outputs": [
    {
     "data": {
      "text/plain": [
       "True"
      ]
     },
     "execution_count": 7,
     "metadata": {},
     "output_type": "execute_result"
    }
   ],
   "source": [
    "def binary_search(element, array):\n",
    "    if array == []:\n",
    "        return False\n",
    "    middle_element = len(array) // 2\n",
    "    if element < array[middle_element]:\n",
    "        return binary_search(element, array[0:middle_element + 1])\n",
    "    if element > array[middle_element]:\n",
    "        return binary_search(element, array[middle_element + 1:])\n",
    "    else:\n",
    "        return True\n",
    "        \n",
    "array = [1,2,3,4,5,6]\n",
    "binary_search(6,array)"
   ]
  },
  {
   "cell_type": "markdown",
   "id": "038c792f",
   "metadata": {},
   "source": [
    "### Selection Sort"
   ]
  },
  {
   "cell_type": "code",
   "execution_count": 1,
   "id": "13b0e068",
   "metadata": {},
   "outputs": [
    {
     "data": {
      "text/plain": [
       "[1, 2, 3, 4, 5, 6]"
      ]
     },
     "execution_count": 1,
     "metadata": {},
     "output_type": "execute_result"
    }
   ],
   "source": [
    "def selection_sort(array):\n",
    "    l = len(array)\n",
    "    if len(array) < 1:\n",
    "        return array\n",
    "    \n",
    "    for x in range(l):\n",
    "        minimum = x #Assuming the current element is the minimum\n",
    "        for y in range(x + 1, l): #Traversing from the element after the current assumed minimum\n",
    "            if array[y] < array[minimum]: #If an element is found which is smaller than the current minimum\n",
    "                minimum = y #Replacing the assumed minimum with the found minimum\n",
    "        #Loop ends with finding the next minimum element\n",
    "        array[x], array[minimum] = array[minimum], array[x] #Swapping the current element with the new minimum\n",
    "    return array\n",
    "\n",
    "\n",
    "selection_sort([5, 3, 2, 1, 4, 6])\n",
    "        "
   ]
  },
  {
   "cell_type": "markdown",
   "id": "36f136aa",
   "metadata": {},
   "source": [
    "### Insertion Sort"
   ]
  },
  {
   "cell_type": "code",
   "execution_count": 6,
   "id": "8bc35b18",
   "metadata": {},
   "outputs": [
    {
     "data": {
      "text/plain": [
       "[1, 2, 3, 4, 5, 6]"
      ]
     },
     "execution_count": 6,
     "metadata": {},
     "output_type": "execute_result"
    }
   ],
   "source": [
    "def insertion_sort(array):\n",
    "    if len(array) < 1:\n",
    "        return array \n",
    "    \n",
    "    for x in range(len(array)): \n",
    "        y = x #Getting the index of the current element\n",
    "        while (y > 0 and array[y] < array[y - 1]):\n",
    "            #Checking if the element has reached the end of the list (the 0th index) or it is greater than the y - 1 element (the element before it)\n",
    "            array[y], array[y - 1] = array[y - 1], array[y] #Swapping the values of the element\n",
    "            y -= 1 #Decrementing the index to check the next element\n",
    "    return array\n",
    "\n",
    "insertion_sort([5, 3, 2, 1, 4, 6])"
   ]
  },
  {
   "cell_type": "code",
   "execution_count": 26,
   "id": "f4ad8aff",
   "metadata": {},
   "outputs": [
    {
     "data": {
      "text/plain": [
       "[1, 2, 3, 4, 5, 6]"
      ]
     },
     "execution_count": 26,
     "metadata": {},
     "output_type": "execute_result"
    }
   ],
   "source": [
    "def Insert(L, v):\n",
    "    n = len(L)\n",
    "    if n <= 0:\n",
    "        return [v]\n",
    "    if v >= L[-1]:\n",
    "        return L + [v]\n",
    "    else:\n",
    "        return Insert(L[:-1], v) + L[-1:]\n",
    "\n",
    "def Isort(L):\n",
    "    n = len(L)\n",
    "    if n <= 1:\n",
    "        return L\n",
    "    L = Insert(Isort(L[:-1]), L[-1])\n",
    "    return L\n",
    "\n",
    "Isort([5, 3, 2, 1, 4, 6])\n"
   ]
  },
  {
   "cell_type": "markdown",
   "id": "05296c0c",
   "metadata": {},
   "source": [
    "### Mergesort"
   ]
  },
  {
   "cell_type": "code",
   "execution_count": 32,
   "id": "a9be3ce6",
   "metadata": {},
   "outputs": [
    {
     "data": {
      "text/plain": [
       "[1, 2, 3, 4, 5, 6, 7, 8, 9, 10]"
      ]
     },
     "execution_count": 32,
     "metadata": {},
     "output_type": "execute_result"
    }
   ],
   "source": [
    "def merge(list1, list2):\n",
    "    len_list1, len_list2 = len(list1), len(list2)\n",
    "    merged_list, index_list1, index_list2, len_merged = [], 0, 0, 0\n",
    "    \n",
    "    while index_list1 < len_list1 and index_list2 < len_list2:\n",
    "        if list1[index_list1] < list2[index_list2]:\n",
    "            merged_list.append(list1[index_list1])\n",
    "            index_list1 += 1\n",
    "        else:\n",
    "            merged_list.append(list2[index_list2])\n",
    "            index_list2 += 1\n",
    "            \n",
    "    merged_list.extend(list1[index_list1:])\n",
    "    merged_list.extend(list2[index_list2:])\n",
    "    \n",
    "    return merged_list\n",
    "    \n",
    "def mergesort(a):\n",
    "    n = len(a)\n",
    "    \n",
    "    if n <= 1:\n",
    "        return a\n",
    "    \n",
    "    l = a[:n//2]\n",
    "    r = a[n//2:]\n",
    "    \n",
    "    b = merge(l,r)\n",
    "    return b"
   ]
  },
  {
   "cell_type": "markdown",
   "id": "a76f1300",
   "metadata": {},
   "source": [
    "### Quicksort"
   ]
  },
  {
   "cell_type": "code",
   "execution_count": null,
   "id": "01dc4a21",
   "metadata": {},
   "outputs": [],
   "source": [
    "def quicksort(lst:list[int]) -> list[int]:\n",
    "    pivot = lst[0]\n",
    "    for i, x in enumerate(lst):\n",
    "        if x < pivot:\n",
    "            pivot, x = x, p"
   ]
  }
 ],
 "metadata": {
  "kernelspec": {
   "display_name": "Python 3 (ipykernel)",
   "language": "python",
   "name": "python3"
  },
  "language_info": {
   "codemirror_mode": {
    "name": "ipython",
    "version": 3
   },
   "file_extension": ".py",
   "mimetype": "text/x-python",
   "name": "python",
   "nbconvert_exporter": "python",
   "pygments_lexer": "ipython3",
   "version": "3.11.5"
  }
 },
 "nbformat": 4,
 "nbformat_minor": 5
}

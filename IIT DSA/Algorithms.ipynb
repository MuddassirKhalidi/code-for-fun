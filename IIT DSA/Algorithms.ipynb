{
 "cells": [
  {
   "cell_type": "markdown",
   "id": "da1691e4",
   "metadata": {},
   "source": [
    "### Binary Searching\n",
    "\n",
    "#### `Runtime complexity: O(logn)`"
   ]
  },
  {
   "cell_type": "code",
   "execution_count": 7,
   "id": "fc7d51c3",
   "metadata": {},
   "outputs": [
    {
     "data": {
      "text/plain": [
       "True"
      ]
     },
     "execution_count": 7,
     "metadata": {},
     "output_type": "execute_result"
    }
   ],
   "source": [
    "def binary_search(element, array):\n",
    "    if array == []:\n",
    "        return False\n",
    "    middle_element = len(array) // 2\n",
    "    if element < array[middle_element]:\n",
    "        return binary_search(element, array[0:middle_element + 1])\n",
    "    if element > array[middle_element]:\n",
    "        return binary_search(element, array[middle_element + 1:])\n",
    "    else:\n",
    "        return True\n",
    "        \n",
    "array = [1,2,3,4,5,6]\n",
    "binary_search(6,array)"
   ]
  },
  {
   "cell_type": "markdown",
   "id": "038c792f",
   "metadata": {},
   "source": [
    "### Selection Sort"
   ]
  },
  {
   "cell_type": "code",
   "execution_count": 1,
   "id": "13b0e068",
   "metadata": {},
   "outputs": [
    {
     "data": {
      "text/plain": [
       "[1, 2, 3, 4, 5, 6]"
      ]
     },
     "execution_count": 1,
     "metadata": {},
     "output_type": "execute_result"
    }
   ],
   "source": [
    "def selection_sort(array):\n",
    "    l = len(array)\n",
    "    if len(array) < 1:\n",
    "        return array\n",
    "    \n",
    "    for x in range(l):\n",
    "        minimum = x #Assuming the current element is the minimum\n",
    "        for y in range(x + 1, l): #Traversing from the element after the current assumed minimum\n",
    "            if array[y] < array[minimum]: #If an element is found which is smaller than the current minimum\n",
    "                minimum = y #Replacing the assumed minimum with the found minimum\n",
    "        #Loop ends with finding the next minimum element\n",
    "        array[x], array[minimum] = array[minimum], array[x] #Swapping the current element with the new minimum\n",
    "    return array\n",
    "\n",
    "\n",
    "selection_sort([5, 3, 2, 1, 4, 6])\n",
    "        "
   ]
  },
  {
   "cell_type": "markdown",
   "id": "36f136aa",
   "metadata": {},
   "source": [
    "### Insertion Sort"
   ]
  },
  {
   "cell_type": "code",
   "execution_count": 6,
   "id": "8bc35b18",
   "metadata": {},
   "outputs": [
    {
     "data": {
      "text/plain": [
       "[1, 2, 3, 4, 5, 6]"
      ]
     },
     "execution_count": 6,
     "metadata": {},
     "output_type": "execute_result"
    }
   ],
   "source": [
    "def insertion_sort(array):\n",
    "    if len(array) < 1:\n",
    "        return array \n",
    "    \n",
    "    for x in range(len(array)): \n",
    "        y = x #Getting the index of the current element\n",
    "        while (y > 0 and array[y] < array[y - 1]):\n",
    "            #Checking if the element has reached the end of the list (the 0th index) or it is greater than the y - 1 element (the element before it)\n",
    "            array[y], array[y - 1] = array[y - 1], array[y] #Swapping the values of the element\n",
    "            y -= 1 #Decrementing the index to check the next element\n",
    "    return array\n",
    "\n",
    "insertion_sort([5, 3, 2, 1, 4, 6])"
   ]
  },
  {
   "cell_type": "code",
   "execution_count": 26,
   "id": "f4ad8aff",
   "metadata": {},
   "outputs": [
    {
     "data": {
      "text/plain": [
       "[1, 2, 3, 4, 5, 6]"
      ]
     },
     "execution_count": 26,
     "metadata": {},
     "output_type": "execute_result"
    }
   ],
   "source": [
    "def Insert(L, v):\n",
    "    n = len(L)\n",
    "    if n <= 0:\n",
    "        return [v]\n",
    "    if v >= L[-1]:\n",
    "        return L + [v]\n",
    "    else:\n",
    "        return Insert(L[:-1], v) + L[-1:]\n",
    "\n",
    "def Isort(L):\n",
    "    n = len(L)\n",
    "    if n <= 1:\n",
    "        return L\n",
    "    L = Insert(Isort(L[:-1]), L[-1])\n",
    "    return L\n",
    "\n",
    "Isort([5, 3, 2, 1, 4, 6])\n"
   ]
  },
  {
   "cell_type": "markdown",
   "id": "05296c0c",
   "metadata": {},
   "source": [
    "### Mergesort"
   ]
  },
  {
   "cell_type": "code",
   "execution_count": 32,
   "id": "a9be3ce6",
   "metadata": {},
   "outputs": [
    {
     "data": {
      "text/plain": [
       "[1, 2, 3, 4, 5, 6, 7, 8, 9, 10]"
      ]
     },
     "execution_count": 32,
     "metadata": {},
     "output_type": "execute_result"
    }
   ],
   "source": [
    "def merge(list1, list2):\n",
    "    len_list1, len_list2 = len(list1), len(list2)\n",
    "    merged_list, index_list1, index_list2, len_merged = [], 0, 0, 0\n",
    "    \n",
    "    while index_list1 < len_list1 and index_list2 < len_list2:\n",
    "        if list1[index_list1] < list2[index_list2]:\n",
    "            merged_list.append(list1[index_list1])\n",
    "            index_list1 += 1\n",
    "        else:\n",
    "            merged_list.append(list2[index_list2])\n",
    "            index_list2 += 1\n",
    "            \n",
    "    merged_list.extend(list1[index_list1:])\n",
    "    merged_list.extend(list2[index_list2:])\n",
    "    \n",
    "    return merged_list\n",
    "    \n",
    "def mergesort(a):\n",
    "    n = len(a)\n",
    "    \n",
    "    if n <= 1:\n",
    "        return a\n",
    "    \n",
    "    l = a[:n//2]\n",
    "    r = a[n//2:]\n",
    "    \n",
    "    b = merge(l,r)\n",
    "    return b"
   ]
  },
  {
   "cell_type": "markdown",
   "id": "8fec1e4d",
   "metadata": {},
   "source": [
    "### Quicksort"
   ]
  },
  {
   "cell_type": "code",
   "execution_count": 16,
   "id": "01dc4a21",
   "metadata": {},
   "outputs": [],
   "source": [
    "'''\n",
    "Time Complexity\n",
    "Best Case: O(nlog(n))\n",
    "Worst Case: O(n^2)\n",
    "\n",
    "Space Complexity: O(n)\n",
    "\n",
    "This strategy is not in-place \n",
    "'''\n",
    "def quicksort(lst:list[int]) -> list[int]:\n",
    "    if len(lst) <= 1:\n",
    "        return lst\n",
    "    \n",
    "    pivot = lst[0]\n",
    "    left = [x for x in lst[1:] if x <= pivot]\n",
    "    right = [x for x in lst[1:] if x > pivot]\n",
    "    \n",
    "    return quicksort(left) + [pivot] + quicksort(right)"
   ]
  },
  {
   "cell_type": "code",
   "execution_count": 17,
   "id": "0440c2ed",
   "metadata": {},
   "outputs": [
    {
     "data": {
      "text/plain": [
       "[13, 22, 32, 43, 57, 63, 78, 91]"
      ]
     },
     "execution_count": 17,
     "metadata": {},
     "output_type": "execute_result"
    }
   ],
   "source": [
    "lst = [43, 32, 22, 78, 63, 57, 91, 13]\n",
    "quicksort(lst)"
   ]
  },
  {
   "cell_type": "code",
   "execution_count": 21,
   "id": "69919532",
   "metadata": {},
   "outputs": [],
   "source": [
    "'''\n",
    "Time Complexity\n",
    "Best Case: O(nlog(n))\n",
    "Worst Case: O(n^2)\n",
    "\n",
    "Space Complexity: O(log(n))\n",
    "\n",
    "This strategy is in-place \n",
    "'''\n",
    "\n",
    "def partition(lst:list[int], low:int, high:int) -> int:\n",
    "    pivot = lst[low] #The first element of the current segment\n",
    "    i = low + 1 #The second element of the current segment\n",
    "    \n",
    "    # The number of increments i has is the number of elements which were greater than the pivot\n",
    "    \n",
    "    for j in range(low + 1, high + 1): #We start from the second element and go until the end\n",
    "        if lst[j] <= pivot: #If the pointer finds an element which is lesser than the pivot\n",
    "            lst[i], lst[j] = lst[j], lst[i] #We switch the greater value with the value of i\n",
    "            i += 1\n",
    "            \n",
    "    lst[low], lst[i - 1] = lst[i - 1], lst[low] #i - 1 since the current value of i points to an element greater than pivot\n",
    "    return i - 1\n",
    "\n",
    "def qsort(lst:list, low:int, high:int) -> None:\n",
    "    if low < high:\n",
    "        pivot = partition(lst, low, high)\n",
    "        \n",
    "        qsort(lst, low, pivot - 1)\n",
    "        qsort(lst, pivot + 1, high)\n",
    "\n",
    "def quicksort(lst:list) -> None:\n",
    "    qsort(lst, 0, len(lst) - 1)"
   ]
  },
  {
   "cell_type": "code",
   "execution_count": 22,
   "id": "a8456baf",
   "metadata": {},
   "outputs": [],
   "source": [
    "lst = [43, 32, 22, 78, 63, 57, 91, 13]\n",
    "quicksort(lst)"
   ]
  },
  {
   "cell_type": "code",
   "execution_count": 23,
   "id": "2743de21",
   "metadata": {},
   "outputs": [
    {
     "name": "stdout",
     "output_type": "stream",
     "text": [
      "[13, 22, 32, 43, 57, 63, 78, 91]\n"
     ]
    }
   ],
   "source": [
    "print(lst)"
   ]
  },
  {
   "cell_type": "code",
   "execution_count": null,
   "id": "f6d8d787",
   "metadata": {},
   "outputs": [],
   "source": []
  }
 ],
 "metadata": {
  "kernelspec": {
   "display_name": "Python 3 (ipykernel)",
   "language": "python",
   "name": "python3"
  },
  "language_info": {
   "codemirror_mode": {
    "name": "ipython",
    "version": 3
   },
   "file_extension": ".py",
   "mimetype": "text/x-python",
   "name": "python",
   "nbconvert_exporter": "python",
   "pygments_lexer": "ipython3",
   "version": "3.11.5"
  }
 },
 "nbformat": 4,
 "nbformat_minor": 5
}
